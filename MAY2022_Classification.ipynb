{
 "cells": [
  {
   "cell_type": "code",
   "execution_count": null,
   "metadata": {},
   "outputs": [],
   "source": [
    "%reset"
   ]
  },
  {
   "cell_type": "code",
   "execution_count": null,
   "metadata": {},
   "outputs": [],
   "source": [
    "import numpy as np\n",
    "import random\n",
    "import math\n",
    "import torch\n",
    "import torch.nn as nn\n",
    "import torch.nn.functional as func\n",
    "import matplotlib.pyplot as plt\n",
    "from torch.utils.data import DataLoader\n",
    "from sklearn.discriminant_analysis import LinearDiscriminantAnalysis as LDA\n",
    "from sklearn.decomposition import PCA\n",
    "from sklearn.model_selection import train_test_split\n",
    "\n",
    "device = torch.device('cuda' if torch.cuda.is_available() else 'cpu')\n",
    "\n",
    "from DataAccessAndFormatting import DataFormatting\n",
    "from DataAccessAndFormatting import GaussianKernelFiltering"
   ]
  },
  {
   "cell_type": "code",
   "execution_count": null,
   "metadata": {},
   "outputs": [],
   "source": [
    "'''\n",
    "    Global variables\n",
    "    path                : local path to the datasets\n",
    "    index_database      : enables access to the datasets of individual moths\n",
    "                            the dataset for subject (moth) i is stored as .mat file with name format \n",
    "                            \"Moth{index_database[0][i]}_{index_database[1][i]}__AnnotatedToShare_v3\"\n",
    "    all_neurons         : channel (muscle) codes\n",
    "    forces              : force/torque codes\n",
    "    stimuli             : stimuli notation\n",
    "    stimuli_names       : stimuli codes\n",
    "'''\n",
    "\n",
    "path = \"../../Data/Moth\"\n",
    "index_database = [ [1       , 2       , 3       , 4       , 5       , 6       , 7       , 8       , 9       ,       10], \n",
    "                   [20200113, 20200114, 20200219, 20200221, 20200226, 20200818, 20200819, 20200915, 20201006, 20201013] ]\n",
    "all_neurons = ['LAX','LBA','LDLM','LDVM','LSA',  'RAX','RBA','RDLM','RDVM','RSA']\n",
    "forces = ['Fx_by_WS','Fy_by_WS','Fz_by_WS','Tx_by_WS','Ty_by_WS','Tz_by_WS']\n",
    "\n",
    "stimuli = [0,1,2,3,4,5]\n",
    "stimuli_names = ['pitch up','pitch down','roll left','roll right','yaw left','yaw right']"
   ]
  },
  {
   "cell_type": "code",
   "execution_count": null,
   "metadata": {},
   "outputs": [],
   "source": [
    "'''\n",
    "    Design parameterts and other variables\n",
    "    \n",
    "    fs          : sampling frequency in Hz\n",
    "    duration    : duration of the wing stroke in seconds, selected to be larger than the max spike timing across all trials (wing strokes) and subjects (moths)\n",
    "    T           : duration of the wing stroke in number of samples\n",
    "    N           : number of channels (muscles)\n",
    "    sigma       : Gaussian kernel bandwidth in seconds\n",
    "    omega       : test data set ratio\n",
    "    no_modes    : number of retained PCA modes\n",
    "    MCT         : number of Monte Carlo runs, associated with random train/test data set splits\n",
    "\n",
    "'''\n",
    "\n",
    "fs, duration = 10e3, 0.06 \n",
    "T = int(fs*duration)\n",
    "N = 10\n",
    "sigma, omega, no_Modes = .0025, .15, 20\n",
    "MCT = 10"
   ]
  },
  {
   "cell_type": "code",
   "execution_count": null,
   "metadata": {},
   "outputs": [],
   "source": [
    "Z = [1,2,3,4,6,7,8,9,10] # subject (moth) indices\n",
    "test_accuracy = {}\n",
    "\n",
    "for index in Z:\n",
    "    \n",
    "    spike_times, targets, no_Trials = DataFormatting( path, index_database, index-1, all_neurons, stimuli )\n",
    "    signals, _, _, targets = GaussianKernelFiltering( spike_times, targets, sum(no_Trials[0]), all_neurons, stimuli, duration, fs, sigma )\n",
    "    \n",
    "    signals = signals.reshape((signals.shape[0],signals.shape[1]*signals.shape[2]))\n",
    "    rate = 0\n",
    "    test_accuracy['moth-{}'.format(index)] = 0\n",
    "    \n",
    "    for m in range(MCT):\n",
    "        \n",
    "        signals_train, signals_test, targets_train, targets_test = train_test_split(signals, targets, test_size=omega)\n",
    "        \n",
    "        pca = PCA(n_components=no_Modes)\n",
    "        pca.fit(signals_train)\n",
    "        signals_train, signals_test  = pca.fit_transform(signals_train), pca.transform(signals_test)\n",
    "        \n",
    "        clf = LDA()\n",
    "        clf.fit(signals_train, np.ravel(targets_train))            \n",
    "        targets_predicted = np.expand_dims(clf.predict(signals_test), axis=1)\n",
    "        rate = ( np.sum(targets_predicted == targets_test)/targets_test.shape[0] )\n",
    "        test_accuracy['moth-{}'.format(index)] += rate/MCT\n",
    "        \n",
    "        print('  (m={}) Test rate for moth-{}: {:0.4f}'.format(m,index, rate ))\n",
    "    \n",
    "    "
   ]
  },
  {
   "cell_type": "code",
   "execution_count": null,
   "metadata": {},
   "outputs": [],
   "source": []
  }
 ],
 "metadata": {
  "kernelspec": {
   "display_name": "Python 3 (ipykernel)",
   "language": "python",
   "name": "python3"
  },
  "language_info": {
   "codemirror_mode": {
    "name": "ipython",
    "version": 3
   },
   "file_extension": ".py",
   "mimetype": "text/x-python",
   "name": "python",
   "nbconvert_exporter": "python",
   "pygments_lexer": "ipython3",
   "version": "3.8.12"
  }
 },
 "nbformat": 4,
 "nbformat_minor": 4
}
